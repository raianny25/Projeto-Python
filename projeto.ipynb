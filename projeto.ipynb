{
 "cells": [
  {
   "cell_type": "code",
   "execution_count": 1,
   "source": [
    "import pandas as pd"
   ],
   "outputs": [],
   "metadata": {}
  },
  {
   "cell_type": "code",
   "execution_count": 2,
   "source": [
    "df = pd.read_csv(\"Marvel_DC_imdb.csv\", delimiter=',')"
   ],
   "outputs": [],
   "metadata": {}
  },
  {
   "cell_type": "code",
   "execution_count": 4,
   "source": [
    "df.info()"
   ],
   "outputs": [
    {
     "output_type": "stream",
     "name": "stdout",
     "text": [
      "<class 'pandas.core.frame.DataFrame'>\n",
      "RangeIndex: 1690 entries, 0 to 1689\n",
      "Data columns (total 14 columns):\n",
      " #   Column       Non-Null Count  Dtype  \n",
      "---  ------       --------------  -----  \n",
      " 0   Unnamed: 0   1690 non-null   int64  \n",
      " 1   Movie        1690 non-null   object \n",
      " 2   Year         1657 non-null   object \n",
      " 3   Genre        1683 non-null   object \n",
      " 4   RunTime      1407 non-null   object \n",
      " 5   Rating       1463 non-null   object \n",
      " 6   Director     1474 non-null   object \n",
      " 7   Actor        1660 non-null   object \n",
      " 8   Description  1690 non-null   object \n",
      " 9   IMDB_Score   1486 non-null   float64\n",
      " 10  Metascore    65 non-null     float64\n",
      " 11  Votes        1486 non-null   object \n",
      " 12  USA_Gross    64 non-null     object \n",
      " 13  Category     1690 non-null   object \n",
      "dtypes: float64(2), int64(1), object(11)\n",
      "memory usage: 185.0+ KB\n"
     ]
    }
   ],
   "metadata": {}
  },
  {
   "cell_type": "code",
   "execution_count": 5,
   "source": [
    "df.isna().sum()"
   ],
   "outputs": [
    {
     "output_type": "execute_result",
     "data": {
      "text/plain": [
       "Unnamed: 0        0\n",
       "Movie             0\n",
       "Year             33\n",
       "Genre             7\n",
       "RunTime         283\n",
       "Rating          227\n",
       "Director        216\n",
       "Actor            30\n",
       "Description       0\n",
       "IMDB_Score      204\n",
       "Metascore      1625\n",
       "Votes           204\n",
       "USA_Gross      1626\n",
       "Category          0\n",
       "dtype: int64"
      ]
     },
     "metadata": {},
     "execution_count": 5
    }
   ],
   "metadata": {}
  },
  {
   "cell_type": "code",
   "execution_count": 6,
   "source": [
    "# Eliminar coluna Unnamed, Metascore e USA_Gross - Com muitos nulos\r\n",
    "df = df.drop(columns=['USA_Gross', 'Metascore', 'Unnamed: 0'])\r\n"
   ],
   "outputs": [],
   "metadata": {}
  },
  {
   "cell_type": "code",
   "execution_count": 7,
   "source": [
    "df.head()"
   ],
   "outputs": [
    {
     "output_type": "execute_result",
     "data": {
      "text/plain": [
       "                               Movie      Year                     Genre  \\\n",
       "0                           Eternals    (2021)    Action,Adventure,Drama   \n",
       "1                               Loki  (2021– )  Action,Adventure,Fantasy   \n",
       "2  The Falcon and the Winter Soldier    (2021)    Action,Adventure,Drama   \n",
       "3                        WandaVision    (2021)       Action,Comedy,Drama   \n",
       "4            Spider-Man: No Way Home    (2021)   Action,Adventure,Sci-Fi   \n",
       "\n",
       "   RunTime Rating   Director  \\\n",
       "0      NaN    NaN  ChloéZhao   \n",
       "1      NaN    NaN        NaN   \n",
       "2   50 min  TV-14        NaN   \n",
       "3  350 min  TV-PG        NaN   \n",
       "4      NaN    NaN   JonWatts   \n",
       "\n",
       "                                               Actor  \\\n",
       "0  AngelinaJolie,GemmaChan,RichardMadden,BarryKeo...   \n",
       "1  TomHiddleston,OwenWilson,SophiaDiMartino,Richa...   \n",
       "2  AnthonyMackie,SebastianStan,WyattRussell,ErinK...   \n",
       "3  ElizabethOlsen,PaulBettany,KathrynHahn,Teyonah...   \n",
       "4        AngourieRice,TomHolland,Zendaya,MarisaTomei   \n",
       "\n",
       "                                         Description  IMDB_Score    Votes  \\\n",
       "0  The saga of the Eternals, a race of immortal b...         NaN      NaN   \n",
       "1      A new Marvel chapter with Loki at its center.         NaN      NaN   \n",
       "2  Following the events of 'Avengers: Endgame,' S...         7.5  105,557   \n",
       "3  Blends the style of classic sitcoms with the M...         8.1  174,710   \n",
       "4       A continuation of Spider-Man: Far From Home.         NaN      NaN   \n",
       "\n",
       "  Category  \n",
       "0   Marvel  \n",
       "1   Marvel  \n",
       "2   Marvel  \n",
       "3   Marvel  \n",
       "4   Marvel  "
      ],
      "text/html": [
       "<div>\n",
       "<style scoped>\n",
       "    .dataframe tbody tr th:only-of-type {\n",
       "        vertical-align: middle;\n",
       "    }\n",
       "\n",
       "    .dataframe tbody tr th {\n",
       "        vertical-align: top;\n",
       "    }\n",
       "\n",
       "    .dataframe thead th {\n",
       "        text-align: right;\n",
       "    }\n",
       "</style>\n",
       "<table border=\"1\" class=\"dataframe\">\n",
       "  <thead>\n",
       "    <tr style=\"text-align: right;\">\n",
       "      <th></th>\n",
       "      <th>Movie</th>\n",
       "      <th>Year</th>\n",
       "      <th>Genre</th>\n",
       "      <th>RunTime</th>\n",
       "      <th>Rating</th>\n",
       "      <th>Director</th>\n",
       "      <th>Actor</th>\n",
       "      <th>Description</th>\n",
       "      <th>IMDB_Score</th>\n",
       "      <th>Votes</th>\n",
       "      <th>Category</th>\n",
       "    </tr>\n",
       "  </thead>\n",
       "  <tbody>\n",
       "    <tr>\n",
       "      <th>0</th>\n",
       "      <td>Eternals</td>\n",
       "      <td>(2021)</td>\n",
       "      <td>Action,Adventure,Drama</td>\n",
       "      <td>NaN</td>\n",
       "      <td>NaN</td>\n",
       "      <td>ChloéZhao</td>\n",
       "      <td>AngelinaJolie,GemmaChan,RichardMadden,BarryKeo...</td>\n",
       "      <td>The saga of the Eternals, a race of immortal b...</td>\n",
       "      <td>NaN</td>\n",
       "      <td>NaN</td>\n",
       "      <td>Marvel</td>\n",
       "    </tr>\n",
       "    <tr>\n",
       "      <th>1</th>\n",
       "      <td>Loki</td>\n",
       "      <td>(2021– )</td>\n",
       "      <td>Action,Adventure,Fantasy</td>\n",
       "      <td>NaN</td>\n",
       "      <td>NaN</td>\n",
       "      <td>NaN</td>\n",
       "      <td>TomHiddleston,OwenWilson,SophiaDiMartino,Richa...</td>\n",
       "      <td>A new Marvel chapter with Loki at its center.</td>\n",
       "      <td>NaN</td>\n",
       "      <td>NaN</td>\n",
       "      <td>Marvel</td>\n",
       "    </tr>\n",
       "    <tr>\n",
       "      <th>2</th>\n",
       "      <td>The Falcon and the Winter Soldier</td>\n",
       "      <td>(2021)</td>\n",
       "      <td>Action,Adventure,Drama</td>\n",
       "      <td>50 min</td>\n",
       "      <td>TV-14</td>\n",
       "      <td>NaN</td>\n",
       "      <td>AnthonyMackie,SebastianStan,WyattRussell,ErinK...</td>\n",
       "      <td>Following the events of 'Avengers: Endgame,' S...</td>\n",
       "      <td>7.5</td>\n",
       "      <td>105,557</td>\n",
       "      <td>Marvel</td>\n",
       "    </tr>\n",
       "    <tr>\n",
       "      <th>3</th>\n",
       "      <td>WandaVision</td>\n",
       "      <td>(2021)</td>\n",
       "      <td>Action,Comedy,Drama</td>\n",
       "      <td>350 min</td>\n",
       "      <td>TV-PG</td>\n",
       "      <td>NaN</td>\n",
       "      <td>ElizabethOlsen,PaulBettany,KathrynHahn,Teyonah...</td>\n",
       "      <td>Blends the style of classic sitcoms with the M...</td>\n",
       "      <td>8.1</td>\n",
       "      <td>174,710</td>\n",
       "      <td>Marvel</td>\n",
       "    </tr>\n",
       "    <tr>\n",
       "      <th>4</th>\n",
       "      <td>Spider-Man: No Way Home</td>\n",
       "      <td>(2021)</td>\n",
       "      <td>Action,Adventure,Sci-Fi</td>\n",
       "      <td>NaN</td>\n",
       "      <td>NaN</td>\n",
       "      <td>JonWatts</td>\n",
       "      <td>AngourieRice,TomHolland,Zendaya,MarisaTomei</td>\n",
       "      <td>A continuation of Spider-Man: Far From Home.</td>\n",
       "      <td>NaN</td>\n",
       "      <td>NaN</td>\n",
       "      <td>Marvel</td>\n",
       "    </tr>\n",
       "  </tbody>\n",
       "</table>\n",
       "</div>"
      ]
     },
     "metadata": {},
     "execution_count": 7
    }
   ],
   "metadata": {}
  },
  {
   "cell_type": "code",
   "execution_count": 8,
   "source": [
    "# Dataset referente aos dados de filmes e séries da Marvel e DC, retirados do IMDB\r\n",
    "# Disponíveis em https://www.kaggle.com/hetulmehta/marvel-vs-dc-imdb-dataset\r\n",
    "\r\n",
    "# Total de linhas e colunas\r\n",
    "df.shape"
   ],
   "outputs": [
    {
     "output_type": "execute_result",
     "data": {
      "text/plain": [
       "(1690, 11)"
      ]
     },
     "metadata": {},
     "execution_count": 8
    }
   ],
   "metadata": {}
  },
  {
   "cell_type": "code",
   "execution_count": 9,
   "source": [
    "# Tipo de dados\r\n",
    "df.dtypes"
   ],
   "outputs": [
    {
     "output_type": "execute_result",
     "data": {
      "text/plain": [
       "Movie           object\n",
       "Year            object\n",
       "Genre           object\n",
       "RunTime         object\n",
       "Rating          object\n",
       "Director        object\n",
       "Actor           object\n",
       "Description     object\n",
       "IMDB_Score     float64\n",
       "Votes           object\n",
       "Category        object\n",
       "dtype: object"
      ]
     },
     "metadata": {},
     "execution_count": 9
    }
   ],
   "metadata": {}
  },
  {
   "cell_type": "code",
   "execution_count": 11,
   "source": [
    "df.describe()"
   ],
   "outputs": [
    {
     "output_type": "execute_result",
     "data": {
      "text/plain": [
       "        IMDB_Score\n",
       "count  1486.000000\n",
       "mean      7.821467\n",
       "std       0.918777\n",
       "min       1.100000\n",
       "25%       7.300000\n",
       "50%       8.000000\n",
       "75%       8.500000\n",
       "max       9.600000"
      ],
      "text/html": [
       "<div>\n",
       "<style scoped>\n",
       "    .dataframe tbody tr th:only-of-type {\n",
       "        vertical-align: middle;\n",
       "    }\n",
       "\n",
       "    .dataframe tbody tr th {\n",
       "        vertical-align: top;\n",
       "    }\n",
       "\n",
       "    .dataframe thead th {\n",
       "        text-align: right;\n",
       "    }\n",
       "</style>\n",
       "<table border=\"1\" class=\"dataframe\">\n",
       "  <thead>\n",
       "    <tr style=\"text-align: right;\">\n",
       "      <th></th>\n",
       "      <th>IMDB_Score</th>\n",
       "    </tr>\n",
       "  </thead>\n",
       "  <tbody>\n",
       "    <tr>\n",
       "      <th>count</th>\n",
       "      <td>1486.000000</td>\n",
       "    </tr>\n",
       "    <tr>\n",
       "      <th>mean</th>\n",
       "      <td>7.821467</td>\n",
       "    </tr>\n",
       "    <tr>\n",
       "      <th>std</th>\n",
       "      <td>0.918777</td>\n",
       "    </tr>\n",
       "    <tr>\n",
       "      <th>min</th>\n",
       "      <td>1.100000</td>\n",
       "    </tr>\n",
       "    <tr>\n",
       "      <th>25%</th>\n",
       "      <td>7.300000</td>\n",
       "    </tr>\n",
       "    <tr>\n",
       "      <th>50%</th>\n",
       "      <td>8.000000</td>\n",
       "    </tr>\n",
       "    <tr>\n",
       "      <th>75%</th>\n",
       "      <td>8.500000</td>\n",
       "    </tr>\n",
       "    <tr>\n",
       "      <th>max</th>\n",
       "      <td>9.600000</td>\n",
       "    </tr>\n",
       "  </tbody>\n",
       "</table>\n",
       "</div>"
      ]
     },
     "metadata": {},
     "execution_count": 11
    }
   ],
   "metadata": {}
  },
  {
   "cell_type": "code",
   "execution_count": 15,
   "source": [
    "#Agrupar dados por categoria - Marvel x DC, de acordo com o score no IMDB\r\n",
    "agrupar_por_cat = df['IMDB_Score'].groupby(df['Category'])\r\n",
    "#Encontrando a média - DC possui média maior que a MARVEL.\r\n",
    "agrupar_por_cat.mean()\r\n"
   ],
   "outputs": [
    {
     "output_type": "execute_result",
     "data": {
      "text/plain": [
       "Category\n",
       "DC        7.894152\n",
       "Marvel    7.520415\n",
       "Name: IMDB_Score, dtype: float64"
      ]
     },
     "metadata": {},
     "execution_count": 15
    }
   ],
   "metadata": {}
  },
  {
   "cell_type": "code",
   "execution_count": 19,
   "source": [
    "# Encontrando as 5 maiores avaliações de IMDB, sendo Agents of S.H.I.E.L.D.\tE Young Justice, COM 9.6 pontos.\r\n",
    "df.nlargest(5, \"IMDB_Score\")"
   ],
   "outputs": [
    {
     "output_type": "execute_result",
     "data": {
      "text/plain": [
       "                        Movie         Year                       Genre  \\\n",
       "382    Agents of S.H.I.E.L.D.  (2013–2020)      Action,Adventure,Drama   \n",
       "1260            Young Justice     (2010– )  Animation,Action,Adventure   \n",
       "1303                The Flash     (2014– )      Action,Adventure,Drama   \n",
       "310              The Punisher  (2017–2019)          Action,Crime,Drama   \n",
       "325    Agents of S.H.I.E.L.D.  (2013–2020)      Action,Adventure,Drama   \n",
       "\n",
       "     RunTime Rating             Director  \\\n",
       "382   43 min  TV-14  ElizabethHenstridge   \n",
       "1260  22 min  TV-PG                  NaN   \n",
       "1303  44 min  TV-PG         DermottDowns   \n",
       "310   51 min  TV-MA         JetWilkinson   \n",
       "325   43 min  TV-14            JedWhedon   \n",
       "\n",
       "                                                  Actor  \\\n",
       "382   ClarkGregg,Ming-NaWen,ChloeBennet,ElizabethHen...   \n",
       "1260     OdedFehr,MiguelFerrer,KevinGrevioux,LoganGrove   \n",
       "1303  GrantGustin,CandicePatton,DaniellePanabaker,Ri...   \n",
       "310   JonBernthal,EbonMoss-Bachrach,BenBarnes,AmberR...   \n",
       "325   ClarkGregg,Ming-NaWen,ChloeBennet,IainDeCaeste...   \n",
       "\n",
       "                                            Description  IMDB_Score   Votes  \\\n",
       "382   A time storm ravages the Zephyr, propelling it...         9.6   2,700   \n",
       "1260  The Light calls a summit to decide the final f...         9.6     694   \n",
       "1303  With the Particle Accelerator back online, Bar...         9.6  11,823   \n",
       "310   Frank makes a damning confession. A shootout l...         9.5   8,511   \n",
       "325   As Radcliffe and Aida's plan goes into action,...         9.5   4,213   \n",
       "\n",
       "     Category  \n",
       "382    Marvel  \n",
       "1260       DC  \n",
       "1303       DC  \n",
       "310    Marvel  \n",
       "325    Marvel  "
      ],
      "text/html": [
       "<div>\n",
       "<style scoped>\n",
       "    .dataframe tbody tr th:only-of-type {\n",
       "        vertical-align: middle;\n",
       "    }\n",
       "\n",
       "    .dataframe tbody tr th {\n",
       "        vertical-align: top;\n",
       "    }\n",
       "\n",
       "    .dataframe thead th {\n",
       "        text-align: right;\n",
       "    }\n",
       "</style>\n",
       "<table border=\"1\" class=\"dataframe\">\n",
       "  <thead>\n",
       "    <tr style=\"text-align: right;\">\n",
       "      <th></th>\n",
       "      <th>Movie</th>\n",
       "      <th>Year</th>\n",
       "      <th>Genre</th>\n",
       "      <th>RunTime</th>\n",
       "      <th>Rating</th>\n",
       "      <th>Director</th>\n",
       "      <th>Actor</th>\n",
       "      <th>Description</th>\n",
       "      <th>IMDB_Score</th>\n",
       "      <th>Votes</th>\n",
       "      <th>Category</th>\n",
       "    </tr>\n",
       "  </thead>\n",
       "  <tbody>\n",
       "    <tr>\n",
       "      <th>382</th>\n",
       "      <td>Agents of S.H.I.E.L.D.</td>\n",
       "      <td>(2013–2020)</td>\n",
       "      <td>Action,Adventure,Drama</td>\n",
       "      <td>43 min</td>\n",
       "      <td>TV-14</td>\n",
       "      <td>ElizabethHenstridge</td>\n",
       "      <td>ClarkGregg,Ming-NaWen,ChloeBennet,ElizabethHen...</td>\n",
       "      <td>A time storm ravages the Zephyr, propelling it...</td>\n",
       "      <td>9.6</td>\n",
       "      <td>2,700</td>\n",
       "      <td>Marvel</td>\n",
       "    </tr>\n",
       "    <tr>\n",
       "      <th>1260</th>\n",
       "      <td>Young Justice</td>\n",
       "      <td>(2010– )</td>\n",
       "      <td>Animation,Action,Adventure</td>\n",
       "      <td>22 min</td>\n",
       "      <td>TV-PG</td>\n",
       "      <td>NaN</td>\n",
       "      <td>OdedFehr,MiguelFerrer,KevinGrevioux,LoganGrove</td>\n",
       "      <td>The Light calls a summit to decide the final f...</td>\n",
       "      <td>9.6</td>\n",
       "      <td>694</td>\n",
       "      <td>DC</td>\n",
       "    </tr>\n",
       "    <tr>\n",
       "      <th>1303</th>\n",
       "      <td>The Flash</td>\n",
       "      <td>(2014– )</td>\n",
       "      <td>Action,Adventure,Drama</td>\n",
       "      <td>44 min</td>\n",
       "      <td>TV-PG</td>\n",
       "      <td>DermottDowns</td>\n",
       "      <td>GrantGustin,CandicePatton,DaniellePanabaker,Ri...</td>\n",
       "      <td>With the Particle Accelerator back online, Bar...</td>\n",
       "      <td>9.6</td>\n",
       "      <td>11,823</td>\n",
       "      <td>DC</td>\n",
       "    </tr>\n",
       "    <tr>\n",
       "      <th>310</th>\n",
       "      <td>The Punisher</td>\n",
       "      <td>(2017–2019)</td>\n",
       "      <td>Action,Crime,Drama</td>\n",
       "      <td>51 min</td>\n",
       "      <td>TV-MA</td>\n",
       "      <td>JetWilkinson</td>\n",
       "      <td>JonBernthal,EbonMoss-Bachrach,BenBarnes,AmberR...</td>\n",
       "      <td>Frank makes a damning confession. A shootout l...</td>\n",
       "      <td>9.5</td>\n",
       "      <td>8,511</td>\n",
       "      <td>Marvel</td>\n",
       "    </tr>\n",
       "    <tr>\n",
       "      <th>325</th>\n",
       "      <td>Agents of S.H.I.E.L.D.</td>\n",
       "      <td>(2013–2020)</td>\n",
       "      <td>Action,Adventure,Drama</td>\n",
       "      <td>43 min</td>\n",
       "      <td>TV-14</td>\n",
       "      <td>JedWhedon</td>\n",
       "      <td>ClarkGregg,Ming-NaWen,ChloeBennet,IainDeCaeste...</td>\n",
       "      <td>As Radcliffe and Aida's plan goes into action,...</td>\n",
       "      <td>9.5</td>\n",
       "      <td>4,213</td>\n",
       "      <td>Marvel</td>\n",
       "    </tr>\n",
       "  </tbody>\n",
       "</table>\n",
       "</div>"
      ]
     },
     "metadata": {},
     "execution_count": 19
    }
   ],
   "metadata": {}
  }
 ],
 "metadata": {
  "orig_nbformat": 4,
  "language_info": {
   "name": "python",
   "version": "3.9.6",
   "mimetype": "text/x-python",
   "codemirror_mode": {
    "name": "ipython",
    "version": 3
   },
   "pygments_lexer": "ipython3",
   "nbconvert_exporter": "python",
   "file_extension": ".py"
  },
  "kernelspec": {
   "name": "python3",
   "display_name": "Python 3.9.6 64-bit"
  },
  "interpreter": {
   "hash": "625c555ca6e0b302397d36e4cc64f30e68e33ad174eaa4861e1bedcd6049e771"
  }
 },
 "nbformat": 4,
 "nbformat_minor": 2
}